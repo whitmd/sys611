{
  "nbformat": 4,
  "nbformat_minor": 0,
  "metadata": {
    "colab": {
      "name": "sys 611 - hw 01",
      "provenance": [],
      "collapsed_sections": [],
      "authorship_tag": "ABX9TyPafowPKC4QZfqz/fpeFAf2",
      "include_colab_link": true
    },
    "kernelspec": {
      "name": "python3",
      "display_name": "Python 3"
    },
    "language_info": {
      "name": "python"
    }
  },
  "cells": [
    {
      "cell_type": "markdown",
      "metadata": {
        "id": "view-in-github",
        "colab_type": "text"
      },
      "source": [
        "<a href=\"https://colab.research.google.com/github/whitmd/sys611/blob/main/sys_611_hw_01.ipynb\" target=\"_parent\"><img src=\"https://colab.research.google.com/assets/colab-badge.svg\" alt=\"Open In Colab\"/></a>"
      ]
    },
    {
      "cell_type": "code",
      "source": [
        "# from __future__ import absolute_import, division, print_function\n",
        "import pandas as pd\n",
        "\n",
        "state = [\n",
        "         [\" \",\" \",\" \"],\n",
        "         [\" \",\" \",\" \"],\n",
        "         [\" \",\" \",\" \"]\n",
        "]\n",
        "\n",
        "def reset_game():\n",
        "  for i in range(3):\n",
        "    for j in range(3):\n",
        "      state[i][j] = \" \"\n",
        "\n",
        "def is_valid(row,col):\n",
        "  return state[row][col] == \" \"\n",
        "\n",
        "def mark_x(row,col):\n",
        "  if is_valid(row,col):\n",
        "    state[row][col] = \"x\"\n",
        "\n",
        "def mark_o(row,col):\n",
        "  if is_valid(row,col):\n",
        "    state[row][col] = \"o\"\n",
        "\n",
        "def show_grid():\n",
        "  print(pd.DataFrame(state))\n",
        "\n",
        "def get_winner(state):\n",
        "  for row in state: # check horizontal rows\n",
        "    if row[0] == row[1] == row[2]:\n",
        "      return row[0]\n",
        "      \n",
        "  for col in range(3):\n",
        "    if state[0][col] == state[1][col] == state[2][col]: # checks columns\n",
        "      return state[0][col]\n",
        "\n",
        "  if state[0][0] == state[1][1] == state[2][2]: # downwards diagonal positions\n",
        "    return state[0][0] # equals the mark at space 0,0\n",
        "  \n",
        "  if state[0][2] == state[1][1] == state[2][0]: # upwards diagonal positions\n",
        "    return state[0][0] # equals the mark at space 0,0\n",
        "\n",
        "  return \"\" # return blank string as per instructions\n",
        "\n",
        "    \n",
        "def is_tie():\n",
        "  for row in state:\n",
        "    if \" \" in row:\n",
        "      return False\n",
        "    else:\n",
        "      return True\n",
        "\n",
        "def main():\n",
        "\n",
        "  mark_x(1, 1)\n",
        "  show_grid()\n",
        "  mark_o(0, 2)\n",
        "  show_grid()\n",
        "  mark_x(0, 0)\n",
        "  show_grid()\n",
        "  mark_x(2, 2)\n",
        "  mark_o(2,1)\n",
        "  show_grid()\n",
        "  print(\"winner is: \" + get_winner(state))\n",
        "  print(is_tie())\n",
        "\n",
        "if __name__ == \"__main__\":\n",
        "    main()\n"
      ],
      "metadata": {
        "id": "tCnDNJiCHoHo",
        "colab": {
          "base_uri": "https://localhost:8080/"
        },
        "outputId": "7b077738-826c-41c2-b0aa-c2c0fd5fa855"
      },
      "execution_count": 2,
      "outputs": [
        {
          "output_type": "stream",
          "name": "stdout",
          "text": [
            "   0  1  2\n",
            "0         \n",
            "1     x   \n",
            "2         \n",
            "   0  1  2\n",
            "0        o\n",
            "1     x   \n",
            "2         \n",
            "   0  1  2\n",
            "0  x     o\n",
            "1     x   \n",
            "2         \n",
            "   0  1  2\n",
            "0  x     o\n",
            "1     x   \n",
            "2     o  x\n",
            "winner is: x\n",
            "False\n"
          ]
        }
      ]
    },
    {
      "cell_type": "code",
      "source": [
        ""
      ],
      "metadata": {
        "id": "Z-TBct-vJF9_"
      },
      "execution_count": null,
      "outputs": []
    }
  ]
}